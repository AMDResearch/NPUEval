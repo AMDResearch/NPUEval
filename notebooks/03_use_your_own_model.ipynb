{
 "cells": [
  {
   "cell_type": "markdown",
   "id": "9a4a2c2f-3b4a-4f54-bed5-f2c2b9c41c6c",
   "metadata": {},
   "source": [
    "# Generate kernels using locally hosted LLM\n",
    "\n",
    "There are many reasons for hosting your own LLM endpoint: privacy, latency, reliability, customization, etc. Your RyzenAI machine comes with an GPU more than capable of running local LLMs. This notebook will demonstrate how to host your own endpoint and use it to generate kernels for the NPU.\n",
    "\n",
    "## Goals\n",
    "* Use Ollama server to host a small 1B parameter model\n",
    "* Generate solutions using AIECoder code generator by pointing to the local endpoint\n",
    "* Test the generated kernels\n",
    "\n",
    "## References\n",
    "* https://ollama.com\n",
    "* https://github.com/QwenLM/Qwen2.5-Coder"
   ]
  },
  {
   "cell_type": "markdown",
   "id": "66e12075-e758-4777-be9b-f6a8483b8297",
   "metadata": {},
   "source": [
    "## Setup Ollama\n",
    "\n",
    "Open a separate terminal window install and start the ollama server.\n",
    "\n",
    "```bash\n",
    "curl -fsSL https://ollama.com/install.sh | sh\n",
    "ollama serve\n",
    "```\n",
    "\n",
    "Use another terminal screen to pull in a model you want to use. For example, here we'll download the small Qwen-2.5-coder 7B model.\n",
    "\n",
    "```bash\n",
    "ollama pull qwen2.5-coder:7b\n",
    "```\n",
    "\n",
    "Once that is done you're ready to start using your LLM locally. Your server will be available at 127.0.0.1:11434. But to access the endpoint you need to use http, so your base_url becomes `http://localhost:11434/v1`."
   ]
  },
  {
   "cell_type": "markdown",
   "id": "82335f6e-d918-4f95-a253-1ecc4e11f07f",
   "metadata": {},
   "source": [
    "## Generate code using local endpoint\n",
    "\n",
    "We are using the same functions as before, but this time changing the `base_url` to our locally hosted LLM server.  "
   ]
  },
  {
   "cell_type": "code",
   "execution_count": 1,
   "id": "77617b65-5a12-4e3a-aee4-e6e8fe5b3fbf",
   "metadata": {},
   "outputs": [
    {
     "name": "stdout",
     "output_type": "stream",
     "text": [
      "system\n",
      "You are a part of a code generation system for AIE (AI Engines).\n",
      "\n",
      "* Your job is to write C++ code for a single kernel that will run on an AIE tile.\n",
      "* Produce only the C++ code for the requested kernel including any required headers and imports.\n",
      "* Make sure the C++ code is complete and self contained in a single code block.\n",
      "* Name the function exactly as specified in the request, and output only the kernel (no main(), examples, explanations or extra code).\n",
      "\n",
      "user\n",
      "/*\n",
      "This AIE kernel adds a scalar int8 offset to every element of the input int8_t vector (length 256), and writes the result to the output buffer.\n",
      ">>> add_offset_int8([72, -53, 17, 92, -33, 95, 3, -91], -11)\n",
      "[61, -64, 6, 81, -44, 84, -8, -102]\n",
      "This kernel should be optimized for the following input/output buffer shapes and parameters:\n",
      "in_buffer size: 256\n",
      "out_buffer size: 256\n",
      "offset: -11\n",
      "*/\n",
      "#include <aie_api/aie.hpp>\n",
      "#include \"aie_kernel_utils.h\"\n",
      "\n",
      "void add_offset_int8(int8_t *in_buffer, int8_t *out_buffer, int8_t offset) {\n",
      "    // Implementation goes here\n",
      "}\n",
      "\n",
      "assistant\n",
      "```cpp\n",
      "#include <aie_api/aie.hpp>\n",
      "#include \"aie_kernel_utils.h\"\n",
      "\n",
      "void add_offset_int8(int8_t *in_buffer, int8_t *out_buffer, int8_t offset) {\n",
      "    for (int i = 0; i < 256; ++i) {\n",
      "        out_buffer[i] = in_buffer[i] + offset;\n",
      "    }\n",
      "}\n",
      "```\n"
     ]
    }
   ],
   "source": [
    "from npueval import dataset\n",
    "from npueval.aiecoder import AIECoder\n",
    "\n",
    "# Load a single kernel test sample\n",
    "test = dataset.get_by_name('add_offset_int8')\n",
    "\n",
    "# Create coder pointing to our local endpoint\n",
    "coder = AIECoder(model=\"qwen2.5-coder:7b\", base_url=\"http://localhost:11434/v1\", api_key=\"aaa\")\n",
    "\n",
    "# No retries, just print a response\n",
    "response = coder(test['prompt'])\n",
    "for msg in response['history']:\n",
    "    print(msg['role'])\n",
    "    print(msg['content'])"
   ]
  },
  {
   "cell_type": "code",
   "execution_count": 2,
   "id": "e7963ef1-0d44-4543-9296-554acf4dd33b",
   "metadata": {},
   "outputs": [
    {
     "name": "stdout",
     "output_type": "stream",
     "text": [
      "Generating solutions for qwen2.5-coder:7b\n",
      "Generating solution for abs_int8\n",
      "Generating solution for add_offset_int8\n",
      "Generating solution for add_offset_uint8\n",
      "Generating solution for argmax_bfloat16\n",
      "Generating solution for argmax_int32\n"
     ]
    }
   ],
   "source": [
    "from pathlib import Path\n",
    "import json\n",
    "\n",
    "tests = dataset[:5]\n",
    "\n",
    "model = \"qwen2.5-coder:7b\"\n",
    "results_path = Path(\"results\")\n",
    "\n",
    "def generate_one_completion(prompt, model=\"gpt-4o-mini\", base_url=None, attempts=2, api_key=None):\n",
    "    coder = AIECoder(model=model, base_url=base_url, attempts=attempts, api_key=api_key)\n",
    "    response = coder(prompt)\n",
    "    \n",
    "    result = {\n",
    "        \"code\": coder.extract_codeblock(response['response']),\n",
    "        \"stats\": {\"token_usage\": response['token_usage'],\n",
    "                  \"history\": response['history']}\n",
    "    }\n",
    "\n",
    "    return result\n",
    "\n",
    "# For each model generate a solution in the local results path\n",
    "print(f\"Generating solutions for {model}\")\n",
    "solutions_path = results_path / \"solutions\" / model\n",
    "solutions_path.mkdir(parents=True, exist_ok=True)\n",
    "\n",
    "for test in tests:\n",
    "    print(f\"Generating solution for {test['kernel_name']}\")\n",
    "    response = generate_one_completion(test['prompt'], model=model, base_url=\"http://localhost:11434/v1\", api_key=\"aaa\")\n",
    "    \n",
    "    solution_file = solutions_path / f\"{test['kernel_name']}.json\"\n",
    "    with solution_file.open('w') as file:\n",
    "        json.dump(response, file, indent=4)"
   ]
  },
  {
   "cell_type": "code",
   "execution_count": 3,
   "id": "e743f317-04a3-4382-9280-d81a546b9228",
   "metadata": {},
   "outputs": [
    {
     "name": "stdout",
     "output_type": "stream",
     "text": [
      "\n",
      "Kernel: abs_int8_wrapper\n",
      "results/evaluations/qwen2.5-coder:7b/abs_int8_wrapper.mlir generated successfully\n",
      "abs_int8_wrapper.xclbin, abs_int8_wrapper.bin built\n",
      "Trace written to results/evaluations/qwen2.5-coder:7b/abs_int8_wrapper_trace.json\n",
      "Result: Pass\n",
      "\n",
      "Kernel: add_offset_int8_wrapper\n",
      "results/evaluations/qwen2.5-coder:7b/add_offset_int8_wrapper.mlir generated successfully\n",
      "add_offset_int8_wrapper.xclbin, add_offset_int8_wrapper.bin built\n",
      "Trace written to results/evaluations/qwen2.5-coder:7b/add_offset_int8_wrapper_trace.json\n",
      "Result: Pass\n",
      "\n",
      "Kernel: add_offset_uint8_wrapper\n",
      "results/evaluations/qwen2.5-coder:7b/add_offset_uint8_wrapper.mlir generated successfully\n",
      "add_offset_uint8_wrapper.xclbin, add_offset_uint8_wrapper.bin built\n",
      "Trace written to results/evaluations/qwen2.5-coder:7b/add_offset_uint8_wrapper_trace.json\n",
      "Result: Pass\n",
      "\n",
      "Kernel: argmax_bfloat16_wrapper\n",
      "results/evaluations/qwen2.5-coder:7b/argmax_bfloat16_wrapper.mlir generated successfully\n",
      "argmax_bfloat16_wrapper.xclbin, argmax_bfloat16_wrapper.bin built\n",
      "Trace written to results/evaluations/qwen2.5-coder:7b/argmax_bfloat16_wrapper_trace.json\n",
      "Result: Pass\n",
      "\n",
      "Kernel: argmax_int32_wrapper\n",
      "results/evaluations/qwen2.5-coder:7b/argmax_int32_wrapper.mlir generated successfully\n",
      "argmax_int32_wrapper.xclbin, argmax_int32_wrapper.bin built\n",
      "Trace written to results/evaluations/qwen2.5-coder:7b/argmax_int32_wrapper_trace.json\n",
      "Result: Pass\n",
      "Passed: 5/5\n"
     ]
    }
   ],
   "source": [
    "from npueval import run_functional_tests\n",
    "\n",
    "solutions_path = results_path / \"solutions\" / model\n",
    "evals_path = results_path / \"evaluations\" / model\n",
    "run_functional_tests(tests, solutions_path, results_path=evals_path, overwrite=True, verbose=False)"
   ]
  },
  {
   "cell_type": "markdown",
   "id": "37b25aca-c4e1-4ff7-aed1-bd472fae08e7",
   "metadata": {},
   "source": [
    "## Comparing with other models\n",
    "\n",
    "We can re-use the results we obtain from the previous notebooks to compare how well our self-hosted alternative did. We'll copy-paste the post-processing from [02_evaluating_solutions](./02_evaluating_solutions.ipynb) with the only change being the addition of the qwen2.5-coder model to the list."
   ]
  },
  {
   "cell_type": "code",
   "execution_count": 4,
   "id": "32e15546-2cbf-4fbd-9052-0a1b0589d8c6",
   "metadata": {},
   "outputs": [
    {
     "name": "stdout",
     "output_type": "stream",
     "text": [
      "\n",
      "Processing qwen2.5-coder:7b\n",
      "abs_int8: total_cycles=9990, vector_cycles=0\n",
      "add_offset_int8: total_cycles=2502, vector_cycles=0\n",
      "add_offset_uint8: total_cycles=9990, vector_cycles=0\n",
      "argmax_bfloat16: total_cycles=616, vector_cycles=63\n",
      "argmax_int32: total_cycles=1792, vector_cycles=0\n",
      "\n",
      "Processing gpt-4o-mini\n",
      "abs_int8: total_cycles=9990, vector_cycles=0\n",
      "add_offset_int8: total_cycles=2502, vector_cycles=0\n",
      "add_offset_uint8: total_cycles=9990, vector_cycles=0\n",
      "argmax_bfloat16: total_cycles=616, vector_cycles=63\n",
      "argmax_int32: total_cycles=1792, vector_cycles=0\n",
      "\n",
      "Processing gpt-4.1\n",
      "abs_int8: total_cycles=540, vector_cycles=31\n",
      "argmax_int32: total_cycles=1351, vector_cycles=0\n"
     ]
    }
   ],
   "source": [
    "models = ['qwen2.5-coder:7b', 'gpt-4o-mini', 'gpt-4.1']\n",
    "\n",
    "scores = {}\n",
    "for model in models:\n",
    "    print(f\"\\nProcessing {model}\")\n",
    "    functional_score = total_cycles = vector_score = 0\n",
    "    \n",
    "    for test in tests:\n",
    "        with open(results_path / \"evaluations\" / model / f\"{test['kernel_name']}_wrapper.json\") as f:\n",
    "            data = json.load(f)\n",
    "            if data['result'] == 'Pass':\n",
    "                print(f\"{test['kernel_name']}: total_cycles={data['total_cycles']}, vector_cycles={data['vector_cycles']}\")\n",
    "                functional_score += 1\n",
    "                total_cycles += data['total_cycles']\n",
    "                vector_score += data['vector_score']\n",
    "    \n",
    "    scores[model] = {\n",
    "        'functional_score': functional_score / len(tests)*100,\n",
    "        'avg_cycles': total_cycles / functional_score, # divide by number of passing kernels\n",
    "        'avg_vector_score': vector_score / len(tests)*100\n",
    "    }"
   ]
  },
  {
   "cell_type": "markdown",
   "id": "3670b6ca-595c-4b41-81ff-3ab282e2dc87",
   "metadata": {},
   "source": [
    "## Visualizing results\n",
    "\n",
    "Now we can see that on our small sample of 5 kernels the open source model actually matches gpt-4o-mini in performance. Note that this is a very small model that you can easily fit on your Ryzen AI device - experiment indefinitely with no subscriptions or need to buy more tokens."
   ]
  },
  {
   "cell_type": "code",
   "execution_count": 5,
   "id": "637f48b9-9a40-4efd-a517-e5da2458efcc",
   "metadata": {},
   "outputs": [
    {
     "data": {
      "image/png": "[encoded data removed]",
      "text/plain": [
       "<Figure size 1500x500 with 3 Axes>"
      ]
     },
     "metadata": {},
     "output_type": "display_data"
    }
   ],
   "source": [
    "import matplotlib.pyplot as plt\n",
    "\n",
    "models = list(scores.keys())\n",
    "fig, axes = plt.subplots(1, 3, figsize=(15, 5))\n",
    "\n",
    "# Functional correctness\n",
    "functional = [scores[model]['functional_score'] for model in models]\n",
    "axes[0].bar(models, functional)\n",
    "axes[0].set_title('Functional Score (%) (higher better)')\n",
    "axes[0].set_ylabel('Score')\n",
    "\n",
    "# Average runtime cycles\n",
    "cycles = [scores[model]['avg_cycles'] for model in models]\n",
    "axes[1].bar(models, cycles)\n",
    "axes[1].set_title('Average Cycles (lower better)')\n",
    "axes[1].set_ylabel('Cycles')\n",
    "\n",
    "# Vector score\n",
    "vector = [scores[model]['avg_vector_score'] for model in models]\n",
    "axes[2].bar(models, vector)\n",
    "axes[2].set_title('Average Vector Score (higher better)')\n",
    "axes[2].set_ylabel('Score')\n",
    "\n",
    "plt.tight_layout()\n",
    "plt.show()"
   ]
  },
  {
   "cell_type": "markdown",
   "id": "b7fbe099-5447-43e2-89e6-62c5fd307ba6",
   "metadata": {},
   "source": [
    "-----\n",
    "Copyright© 2025 AMD, Inc SPDX-License-Identifier: MIT "
   ]
  }
 ],
 "metadata": {
  "kernelspec": {
   "display_name": "ironenv",
   "language": "python",
   "name": "ironenv"
  },
  "language_info": {
   "codemirror_mode": {
    "name": "ipython",
    "version": 3
   },
   "file_extension": ".py",
   "mimetype": "text/x-python",
   "name": "python",
   "nbconvert_exporter": "python",
   "pygments_lexer": "ipython3",
   "version": "3.12.3"
  }
 },
 "nbformat": 4,
 "nbformat_minor": 5
}
