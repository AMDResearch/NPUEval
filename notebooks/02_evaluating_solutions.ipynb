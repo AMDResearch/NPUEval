{
 "cells": [
  {
   "cell_type": "markdown",
   "id": "7e6dcf31-a33a-44e9-93f6-ec006f9f9fb0",
   "metadata": {},
   "source": [
    "# Evaluating generated code\n",
    "\n",
    "Here we will learn to how evaluate the generated NPUEval kernel solutions.\n",
    "\n",
    "## Goals\n",
    "\n",
    "* Produce solutions using multiple models (GPT-4o, GPT-4.1)\n",
    "* Evaluate the and compare the models\n",
    "* Learn to interpret metrics like functional correctness, cycle count and vectorization score\n",
    "\n",
    "## Setup for experiments"
   ]
  },
  {
   "cell_type": "code",
   "execution_count": 1,
   "id": "e4bc2acc-0eb3-498e-8d50-ee3c11ada73e",
   "metadata": {},
   "outputs": [],
   "source": [
    "# Standard imports\n",
    "from pathlib import Path\n",
    "import json\n",
    "\n",
    "# Load the NPUEval dataset and sample the first 5 kernels\n",
    "from npueval import dataset\n",
    "tests = dataset[:5]\n",
    "\n",
    "# List models we want to evaluate\n",
    "models = ['gpt-4o-mini', 'gpt-4.1']\n",
    "\n",
    "# Where we'll store solutions and evaluations\n",
    "results_path = Path(\"results\")"
   ]
  },
  {
   "cell_type": "markdown",
   "id": "74f17bdd-182e-42ad-a139-6d4de3b1f76e",
   "metadata": {},
   "source": [
    "## Generating a single completion\n",
    "\n",
    "We wrap our code generation into a `generate_one_completion` convenience function. It must return a dict with a code entry and we can use whatever parameterization we want.\n",
    "\n",
    "```python\n",
    "def generate_one_completion(prompt, model=\"gpt-4o-mini\", base_url=None, temperature=0.0, top_p=1.0, attempts=1):\n",
    "\n",
    "    # your implementation\n",
    "    \n",
    "    result = {\n",
    "        \"code\":  # only code, no markdown!\n",
    "        \"stats\": # (optional) generation stats you want to track, e.g. tokens\n",
    "    }\n",
    "\n",
    "    return result\n",
    "```\n",
    "\n",
    "Note that `code` is the only mandatory field of the returned result. However you can add whatever additional stats you want for later parsing. E.g. if you are using a reasoning model you may want those reasoning traces, or number of iterations, or token usage, price, etc.\n",
    "\n",
    "Below is a basic implementation using the AIECoder class from the last notebook. It will return the clean extracted C++ code (if there is any) and additional stats like token usage and internal history of the coder."
   ]
  },
  {
   "cell_type": "code",
   "execution_count": 2,
   "id": "64972b02-d642-45f0-9249-05e6c8ad9165",
   "metadata": {},
   "outputs": [],
   "source": [
    "from npueval.aiecoder import AIECoder\n",
    "\n",
    "def generate_one_completion(prompt, model=\"gpt-4o-mini\", base_url=None, temperature=0.0, top_p=1.0, attempts=1):\n",
    "    coder = AIECoder(model=model, temperature=temperature, top_p=top_p, base_url=base_url, attempts=attempts)\n",
    "    response = coder(prompt)\n",
    "    \n",
    "    result = {\n",
    "        \"code\": coder.extract_codeblock(response['response']),\n",
    "        \"stats\": {\"token_usage\": response['token_usage'],\n",
    "                  \"history\": response['history']}\n",
    "    }\n",
    "\n",
    "    return result"
   ]
  },
  {
   "cell_type": "markdown",
   "id": "db6bcf3f-451b-4055-b69b-9a4a086d28e2",
   "metadata": {},
   "source": [
    "## Run completions\n",
    "\n",
    "Now let's iterate this over the first 5 kernels of the dataset for each model and store each result in a json file."
   ]
  },
  {
   "cell_type": "code",
   "execution_count": 3,
   "id": "6324fa56-2728-4b23-88e9-4c25304971ba",
   "metadata": {},
   "outputs": [
    {
     "name": "stdout",
     "output_type": "stream",
     "text": [
      "Generating solutions for gpt-4o-mini\n",
      "Generating solution for abs_int8\n",
      "Generating solution for add_offset_int8\n",
      "Generating solution for add_offset_uint8\n",
      "Generating solution for argmax_bfloat16\n",
      "Generating solution for argmax_int32\n",
      "Generating solutions for gpt-4.1\n",
      "Generating solution for abs_int8\n",
      "Generating solution for add_offset_int8\n",
      "Generating solution for add_offset_uint8\n",
      "Generating solution for argmax_bfloat16\n",
      "Generating solution for argmax_int32\n"
     ]
    }
   ],
   "source": [
    "# For each model generate a solution in the local results path\n",
    "for model in models:\n",
    "    print(f\"Generating solutions for {model}\")\n",
    "    solutions_path = results_path / \"solutions\" / model\n",
    "    solutions_path.mkdir(parents=True, exist_ok=True)\n",
    "    \n",
    "    for test in tests:\n",
    "        print(f\"Generating solution for {test['kernel_name']}\")\n",
    "        response = generate_one_completion(test['prompt'], model=model)\n",
    "        \n",
    "        solution_file = solutions_path / f\"{test['kernel_name']}.json\"\n",
    "        with solution_file.open('w') as file:\n",
    "            json.dump(response, file, indent=4)"
   ]
  },
  {
   "cell_type": "markdown",
   "id": "6957cf71-fb4b-4eaf-92d7-414747d1ca62",
   "metadata": {},
   "source": [
    "## Run evaluations\n",
    "\n",
    "Now that we have a set of kernel solutions for each model we can evaluate them and check how they compare. The `run_function_tests` function abstracts a lot of the individual steps required to compile the kernel, configure the NPU array and run the kernel on the test inputs and outputs."
   ]
  },
  {
   "cell_type": "code",
   "execution_count": 4,
   "id": "797ba13d-c7f7-48ad-848d-9a773edf6d4e",
   "metadata": {},
   "outputs": [
    {
     "name": "stdout",
     "output_type": "stream",
     "text": [
      "\n",
      "Kernel: abs_int8_wrapper\n",
      "results/evaluations/gpt-4o-mini/abs_int8_wrapper.mlir generated successfully\n",
      "abs_int8_wrapper.xclbin, abs_int8_wrapper.bin built\n",
      "Trace written to results/evaluations/gpt-4o-mini/abs_int8_wrapper_trace.json\n",
      "Result: Pass\n",
      "\n",
      "Kernel: add_offset_int8_wrapper\n",
      "results/evaluations/gpt-4o-mini/add_offset_int8_wrapper.mlir generated successfully\n",
      "add_offset_int8_wrapper.xclbin, add_offset_int8_wrapper.bin built\n",
      "Trace written to results/evaluations/gpt-4o-mini/add_offset_int8_wrapper_trace.json\n",
      "Result: Pass\n",
      "\n",
      "Kernel: add_offset_uint8_wrapper\n",
      "results/evaluations/gpt-4o-mini/add_offset_uint8_wrapper.mlir generated successfully\n",
      "add_offset_uint8_wrapper.xclbin, add_offset_uint8_wrapper.bin built\n",
      "Trace written to results/evaluations/gpt-4o-mini/add_offset_uint8_wrapper_trace.json\n",
      "Result: Pass\n",
      "\n",
      "Kernel: argmax_bfloat16_wrapper\n",
      "results/evaluations/gpt-4o-mini/argmax_bfloat16_wrapper.mlir generated successfully\n",
      "argmax_bfloat16_wrapper.xclbin, argmax_bfloat16_wrapper.bin built\n",
      "Trace written to results/evaluations/gpt-4o-mini/argmax_bfloat16_wrapper_trace.json\n",
      "Result: Pass\n",
      "\n",
      "Kernel: argmax_int32_wrapper\n",
      "results/evaluations/gpt-4o-mini/argmax_int32_wrapper.mlir generated successfully\n",
      "argmax_int32_wrapper.xclbin, argmax_int32_wrapper.bin built\n",
      "Trace written to results/evaluations/gpt-4o-mini/argmax_int32_wrapper_trace.json\n",
      "Result: Pass\n",
      "Passed: 5/5\n",
      "\n",
      "Kernel: abs_int8_wrapper\n",
      "results/evaluations/gpt-4.1/abs_int8_wrapper.mlir generated successfully\n",
      "abs_int8_wrapper.xclbin, abs_int8_wrapper.bin built\n",
      "Trace written to results/evaluations/gpt-4.1/abs_int8_wrapper_trace.json\n",
      "Result: Pass\n",
      "\n",
      "Kernel: add_offset_int8_wrapper\n",
      "Failed to compile kernel\n",
      "\n",
      "Kernel: add_offset_uint8_wrapper\n",
      "Failed to compile kernel\n",
      "\n",
      "Kernel: argmax_bfloat16_wrapper\n",
      "Failed to compile kernel\n",
      "\n",
      "Kernel: argmax_int32_wrapper\n",
      "results/evaluations/gpt-4.1/argmax_int32_wrapper.mlir generated successfully\n",
      "argmax_int32_wrapper.xclbin, argmax_int32_wrapper.bin built\n",
      "Trace written to results/evaluations/gpt-4.1/argmax_int32_wrapper_trace.json\n",
      "Result: Pass\n",
      "Passed: 2/5\n"
     ]
    }
   ],
   "source": [
    "from npueval import run_functional_tests\n",
    "\n",
    "for model in models:\n",
    "    solutions_path = results_path / \"solutions\" / model\n",
    "    evals_path = results_path / \"evaluations\" / model\n",
    "    run_functional_tests(tests, solutions_path, results_path=evals_path, overwrite=True, verbose=False)"
   ]
  },
  {
   "cell_type": "markdown",
   "id": "8cbb0f0c-63b8-4de5-b04e-30b8a515da5f",
   "metadata": {},
   "source": [
    "Can already see that all GPT-4o-mini kernels passed the functional tests at least, whereas GPT-4.1 only passed 2/5.\n",
    "\n",
    "## Analyze results\n",
    "\n",
    "Now that we've generated some code and ran the evaluations scripts, how do we determine performance?\n",
    "\n",
    "### Inspect single kernel\n",
    "\n",
    "We'll start out by choosing a single kernel and diving into the available results."
   ]
  },
  {
   "cell_type": "code",
   "execution_count": 5,
   "id": "436d2fb9-9392-4112-aa9e-28b03daf20f9",
   "metadata": {},
   "outputs": [
    {
     "name": "stdout",
     "output_type": "stream",
     "text": [
      "#include <aie_api/aie.hpp>\n",
      "#include <cstdint>\n",
      "\n",
      "void abs_int8(int8_t *in_buffer, int8_t *out_buffer) {\n",
      "    constexpr int N = 1024;\n",
      "    constexpr int VEC = 16; // aie::vector<int8_t, 16>\n",
      "    for (int i = 0; i < N; i += VEC) {\n",
      "        aie::vector<int8_t, VEC> vin = aie::load_v<VEC>(in_buffer + i);\n",
      "        aie::vector<int8_t, VEC> vout = aie::abs(vin);\n",
      "        aie::store_v(out_buffer + i, vout);\n",
      "    }\n",
      "}\n"
     ]
    }
   ],
   "source": [
    "import json\n",
    "\n",
    "kernel = \"abs_int8\"\n",
    "\n",
    "# Print the generated kernel source code\n",
    "with open(solutions_path / f\"{kernel}.json\") as f:\n",
    "    data = json.load(f)\n",
    "    print(data['code'])"
   ]
  },
  {
   "cell_type": "markdown",
   "id": "4006b772-b9e0-4a02-a906-4e4806e98c56",
   "metadata": {},
   "source": [
    "### Recorded results\n",
    "\n",
    "For each kernel we expect the following:\n",
    "* xdna_info - system info dump, crucially it includes the compiler version to make sure comparisons of different LLMs are fair and influenced by a compiler update\n",
    "* result - this is the functional test result which will be a Pass or Fail\n",
    "* stats - tracks absolute/relative errors of kernels, useful for determining the quality of floating point ops\n",
    "* trace information:\n",
    "    * total_cycles - how long the kernel ran in clock cycles, this is deterministic between runs\n",
    "    * vector_cycles - how many cycles was the vector processing unit (VPU) used\n",
    "    * vector_score - the relative portion of time spent using the VPU (vector_cycles / total_cycles)"
   ]
  },
  {
   "cell_type": "code",
   "execution_count": 6,
   "id": "0912a974-0a53-4265-80a2-6f6e72e5884a",
   "metadata": {},
   "outputs": [
    {
     "name": "stdout",
     "output_type": "stream",
     "text": [
      "dict_keys(['result', 'stats', 'total_cycles', 'vector_cycles', 'vector_score', 'xdna_info'])\n"
     ]
    }
   ],
   "source": [
    "with open(evals_path / f\"{kernel}_wrapper.json\") as f:\n",
    "    data = json.load(f)\n",
    "    print(data.keys())"
   ]
  },
  {
   "cell_type": "code",
   "execution_count": 7,
   "id": "1bca19ec-3cd0-4fa8-9cc0-21904e44d127",
   "metadata": {},
   "outputs": [
    {
     "name": "stdout",
     "output_type": "stream",
     "text": [
      "device: NPU Phoenix\n",
      "os: Ubuntu 24.04.2 LTS\n",
      "kernel: 6.11.0-26-generic\n",
      "xdna_version: 2.19.0_20250624\n",
      "xdna_hash: 51b94006f4178016302fcdcbf1d14f48ccfaaf7f\n",
      "firmware_version: 1.5.4.389\n",
      "compiler_version: {'version': '19.0.0', 'repo_url': 'https://github.com/Xilinx/llvm-aie', 'commit_hash': 'b2a279c1939604e2ee82a651683dd995decc25ee', 'build_config': ['+assertions']}\n"
     ]
    }
   ],
   "source": [
    "# Each experiment will log build setup - very useful for debug\n",
    "for key, item in data['xdna_info'].items():\n",
    "    print(f\"{key}: {item}\")"
   ]
  },
  {
   "cell_type": "code",
   "execution_count": 8,
   "id": "32752629-9996-4c20-a17c-893d552d242e",
   "metadata": {},
   "outputs": [
    {
     "name": "stdout",
     "output_type": "stream",
     "text": [
      "Pass\n"
     ]
    }
   ],
   "source": [
    "# Functional test result\n",
    "print(data['result'])"
   ]
  },
  {
   "cell_type": "code",
   "execution_count": 9,
   "id": "320aa6e0-7cc6-464c-8a25-a1cb657e593f",
   "metadata": {},
   "outputs": [
    {
     "name": "stdout",
     "output_type": "stream",
     "text": [
      "{'max_absolute_error': 0.0, 'max_relative_error': 0.0, 'max_abs_error_idx': 0, 'max_rel_error_idx': 0, 'abs_error_mean': 0.0, 'abs_error_std': 0.0, 'rel_error_mean': 0.0, 'rel_error_std': 0.0}\n"
     ]
    }
   ],
   "source": [
    "# Extra stats mostly useful for floating point ops\n",
    "print(data['stats'])"
   ]
  },
  {
   "cell_type": "code",
   "execution_count": 10,
   "id": "30fd4988-90f3-44d1-94c4-f5d519f02c6b",
   "metadata": {},
   "outputs": [
    {
     "name": "stdout",
     "output_type": "stream",
     "text": [
      "total_cycles:  540\n",
      "vector_cycles: 31\n",
      "vector_score:  0.05740740740740741\n"
     ]
    }
   ],
   "source": [
    "print(f\"total_cycles:  {data['total_cycles']}\")\n",
    "print(f\"vector_cycles: {data['vector_cycles']}\")\n",
    "print(f\"vector_score:  {data['vector_score']}\")"
   ]
  },
  {
   "cell_type": "markdown",
   "id": "2b5284d1-8e66-439a-9c14-77ccc41d38e0",
   "metadata": {},
   "source": [
    "### Compare models\n",
    "\n",
    "For each model we calculat the averages scores and runtimes. We only count the cycles of kernels that passed the functional tests."
   ]
  },
  {
   "cell_type": "code",
   "execution_count": 12,
   "id": "da2bd120-9f0f-484c-9350-5d64a07496a1",
   "metadata": {},
   "outputs": [
    {
     "name": "stdout",
     "output_type": "stream",
     "text": [
      "\n",
      "Processing gpt-4o-mini\n",
      "abs_int8: total_cycles=9990, vector_cycles=0\n",
      "add_offset_int8: total_cycles=2502, vector_cycles=0\n",
      "add_offset_uint8: total_cycles=9990, vector_cycles=0\n",
      "argmax_bfloat16: total_cycles=616, vector_cycles=63\n",
      "argmax_int32: total_cycles=1792, vector_cycles=0\n",
      "\n",
      "Processing gpt-4.1\n",
      "abs_int8: total_cycles=540, vector_cycles=31\n",
      "argmax_int32: total_cycles=1351, vector_cycles=0\n"
     ]
    },
    {
     "data": {
      "text/plain": [
       "{'gpt-4o-mini': {'functional_score': 100.0,\n",
       "  'avg_cycles': 4978.0,\n",
       "  'avg_vector_score': 2.0454545454545454},\n",
       " 'gpt-4.1': {'functional_score': 40.0,\n",
       "  'avg_cycles': 945.5,\n",
       "  'avg_vector_score': 1.1481481481481481}}"
      ]
     },
     "execution_count": 12,
     "metadata": {},
     "output_type": "execute_result"
    }
   ],
   "source": [
    "import json\n",
    "\n",
    "scores = {}\n",
    "for model in models:\n",
    "    print(f\"\\nProcessing {model}\")\n",
    "    functional_score = total_cycles = vector_score = 0\n",
    "    \n",
    "    for test in tests:\n",
    "        with open(results_path / \"evaluations\" / model / f\"{test['kernel_name']}_wrapper.json\") as f:\n",
    "            data = json.load(f)\n",
    "            if data['result'] == 'Pass':\n",
    "                print(f\"{test['kernel_name']}: total_cycles={data['total_cycles']}, vector_cycles={data['vector_cycles']}\")\n",
    "                functional_score += 1\n",
    "                total_cycles += data['total_cycles']\n",
    "                vector_score += data['vector_score']\n",
    "    \n",
    "    scores[model] = {\n",
    "        'functional_score': functional_score / len(tests)*100,\n",
    "        'avg_cycles': total_cycles / functional_score, # divide by number of passing kernels\n",
    "        'avg_vector_score': vector_score / len(tests)*100\n",
    "    }\n",
    "\n",
    "scores"
   ]
  },
  {
   "cell_type": "markdown",
   "id": "1575c59d-0555-4c6e-9cdb-dbb86c253024",
   "metadata": {},
   "source": [
    "Let's visualize how GPT-4o-mini and GPT-4.1 stack up on our test set of 5 kernels."
   ]
  },
  {
   "cell_type": "code",
   "execution_count": 13,
   "id": "01f9d227-a8a4-4f03-a275-381be958e6a8",
   "metadata": {},
   "outputs": [
    {
     "data": {
      "image/png": "[encoded data removed]",
      "text/plain": [
       "<Figure size 1500x500 with 3 Axes>"
      ]
     },
     "metadata": {},
     "output_type": "display_data"
    }
   ],
   "source": [
    "import matplotlib.pyplot as plt\n",
    "\n",
    "models = list(scores.keys())\n",
    "fig, axes = plt.subplots(1, 3, figsize=(15, 5))\n",
    "\n",
    "# Functional correctness\n",
    "functional = [scores[model]['functional_score'] for model in models]\n",
    "axes[0].bar(models, functional)\n",
    "axes[0].set_title('Functional Score (%) (higher better)')\n",
    "axes[0].set_ylabel('Score')\n",
    "\n",
    "# Average runtime cycles\n",
    "cycles = [scores[model]['avg_cycles'] for model in models]\n",
    "axes[1].bar(models, cycles)\n",
    "axes[1].set_title('Average Cycles (lower better)')\n",
    "axes[1].set_ylabel('Cycles')\n",
    "\n",
    "# Vector score\n",
    "vector = [scores[model]['avg_vector_score'] for model in models]\n",
    "axes[2].bar(models, vector)\n",
    "axes[2].set_title('Average Vector Score (higher better)')\n",
    "axes[2].set_ylabel('Score')\n",
    "\n",
    "plt.tight_layout()\n",
    "plt.show()"
   ]
  },
  {
   "cell_type": "markdown",
   "id": "2b75d684-c8ca-4c80-871a-a4cf1c4e5b9d",
   "metadata": {},
   "source": [
    "Note that GPT-4o-mini passes more tests, however the kernels that do pass tests from GPT-4.1 are better optimized. This is a common observation with LLM-based kernel code generation -- weak models write passable code, but don't try to optimize. Strong models try to optimize but oftentimes fail to pass the functional test because they hallucinate or make other mistakes.\n",
    "\n",
    "In the next notebook we'll learn how to use retrieval augmented generation (RAG) to improve our generated code."
   ]
  },
  {
   "cell_type": "markdown",
   "id": "4f107655-cf75-4f52-861a-0e30e15d35bf",
   "metadata": {},
   "source": [
    "-----\n",
    "Copyright© 2025 AMD, Inc SPDX-License-Identifier: MIT "
   ]
  }
 ],
 "metadata": {
  "kernelspec": {
   "display_name": "ironenv",
   "language": "python",
   "name": "ironenv"
  },
  "language_info": {
   "codemirror_mode": {
    "name": "ipython",
    "version": 3
   },
   "file_extension": ".py",
   "mimetype": "text/x-python",
   "name": "python",
   "nbconvert_exporter": "python",
   "pygments_lexer": "ipython3",
   "version": "3.12.3"
  }
 },
 "nbformat": 4,
 "nbformat_minor": 5
}
